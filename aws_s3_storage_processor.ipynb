{
 "cells": [
  {
   "cell_type": "markdown",
   "id": "d75375b0-bc75-46b6-8b26-d9d20bb9b908",
   "metadata": {},
   "source": [
    "<h4>S3 storage processor: single upload</h4>"
   ]
  },
  {
   "cell_type": "code",
   "execution_count": 10,
   "id": "53f43b9b-6800-470e-b306-82ef6a880d8a",
   "metadata": {},
   "outputs": [],
   "source": [
    "import boto3\n",
    "import os\n",
    "import traceback\n",
    "from env_vars import *\n",
    "from role_assume import *\n",
    "from s3_storage_proc import *"
   ]
  },
  {
   "cell_type": "markdown",
   "id": "9c47a775-761e-4746-b42d-1370ff1a39c1",
   "metadata": {},
   "source": [
    "Get/set environment variables-"
   ]
  },
  {
   "cell_type": "code",
   "execution_count": 11,
   "id": "c4d5dde7-4f58-45da-b2f9-de3988c251ad",
   "metadata": {},
   "outputs": [],
   "source": [
    "def set_environment_variables(**kwargs):\n",
    "    \"\"\"\n",
    "    **kwargs = {'KEY1': 'value', 'KEY2': 'value', ...}\n",
    "    ...\n",
    "    \"\"\"\n",
    "    for arg in kwargs.values():\n",
    "        for key, val in arg.items():\n",
    "            os.environ[key] = val\n",
    "\n",
    "\n",
    "def get_environment_variables(keys):\n",
    "    \"\"\"\n",
    "    keys = ['KEY1', 'KEY2', ...]\n",
    "    \"\"\"\n",
    "    try:\n",
    "        results = []\n",
    "        for key in keys:\n",
    "            val = os.getenv(key)\n",
    "            results.append(val)\n",
    "    \n",
    "        return results\n",
    "        \n",
    "    except Exception as e:\n",
    "        print(f'ERROR: {traceback.format_exc()}')\n",
    "        return []"
   ]
  },
  {
   "cell_type": "markdown",
   "id": "ff6574b6-4b5d-4c8a-96ea-9a4417d62689",
   "metadata": {},
   "source": [
    "STS: Assume role and get s3 client-"
   ]
  },
  {
   "cell_type": "code",
   "execution_count": 12,
   "id": "b48dcf85-c1ca-4180-a628-46b5fab2b5f7",
   "metadata": {},
   "outputs": [],
   "source": [
    "s3_client = sts_assume_role()"
   ]
  },
  {
   "cell_type": "markdown",
   "id": "24cb24e5-2603-4ded-b586-5613120cf0f4",
   "metadata": {},
   "source": [
    "Listing S3 buckets-"
   ]
  },
  {
   "cell_type": "code",
   "execution_count": 13,
   "id": "6b563d3e-60bb-4378-bc13-6eb915235ed7",
   "metadata": {},
   "outputs": [],
   "source": [
    "def list_s3_buckets():\n",
    "    \"\"\"\n",
    "    list aws s3 object. return empty list incase any exception\n",
    "    {\n",
    "        'Buckets': [\n",
    "            {\n",
    "                'Name': 'string',\n",
    "                'CreationDate': datetime(2015, 1, 1)\n",
    "            },\n",
    "        ],\n",
    "        'Owner': {\n",
    "            'DisplayName': 'string',\n",
    "            'ID': 'string'\n",
    "        }\n",
    "    }\n",
    "    \"\"\"\n",
    "    try:\n",
    "        bucket_name_list = []\n",
    "        s3_client = sts_assume_role()\n",
    "        response = s3_client.list_buckets()\n",
    "        for bucket_dict in response['Buckets']:\n",
    "            bucket_name_list.append(bucket_dict['Name'])\n",
    "\n",
    "        print(f'INFO: bucket name list: {bucket_name_list}')\n",
    "        return bucket_name_list\n",
    "        \n",
    "    except Exception as e:\n",
    "        print(f'ERROR: {traceback.format_exc()}')\n",
    "        return []"
   ]
  },
  {
   "cell_type": "markdown",
   "id": "9b2da099-5322-42c2-9929-9904a30b8b48",
   "metadata": {},
   "source": [
    "Fetch and list objects in S3 bucket-"
   ]
  },
  {
   "cell_type": "code",
   "execution_count": null,
   "id": "b84287fe-161c-43af-a3b6-126c895fdaa2",
   "metadata": {},
   "outputs": [],
   "source": [
    "def list_s3_bucket_objects(source_bucket):\n",
    "    \"\"\"\n",
    "    resulting objects:\n",
    "    {\n",
    "        'Contents': [\n",
    "            {\n",
    "                'ETag': '\"70ee1738b6b21e2c8a43f3a5ab0eee71\"',\n",
    "                'Key': 'example1.jpg',\n",
    "                'LastModified': datetime(2014, 11, 21, 19, 40, 5, 4, 325, 0),\n",
    "                'Owner': {\n",
    "                    'DisplayName': 'myname',\n",
    "                    'ID': '12345example25102679df27bb0ae12b3f85be6f290b936c4393484be31bebcc',\n",
    "                },\n",
    "                'Size': 11,\n",
    "                'StorageClass': 'STANDARD',\n",
    "            },\n",
    "            {\n",
    "                'ETag': '\"9c8af9a76df052144598c115ef33e511\"',\n",
    "                'Key': 'example2.jpg',\n",
    "                'LastModified': datetime(2013, 11, 15, 1, 10, 49, 4, 319, 0),\n",
    "                'Owner': {\n",
    "                    'DisplayName': 'myname',\n",
    "                    'ID': '12345example25102679df27bb0ae12b3f85be6f290b936c4393484be31bebcc',\n",
    "                },\n",
    "                'Size': 713193,\n",
    "                'StorageClass': 'STANDARD',\n",
    "            },\n",
    "        ],\n",
    "        ...\n",
    "    }\n",
    "    \"\"\"\n",
    "    try:\n",
    "        available_buckets = list_s3_buckets()\n",
    "        if source_bucket not in available_buckets:\n",
    "            raise Exception('ERROR: Source bucket does not exists')\n",
    "            \n",
    "        s3_client = sts_assume_role()\n",
    "        paginator = s3_client.get_paginator('list_objects')\n",
    "        params = {\n",
    "            'Bucket': source_bucket\n",
    "        }\n",
    "        page_iterator = paginator.paginate(**params)\n",
    "    \n",
    "        data_object_list = []\n",
    "        for page in page_iterator:\n",
    "            data = [content for content in page['Contents']]\n",
    "            data_object_list = [*data_object_list, *data]\n",
    "    \n",
    "        return data_object_list\n",
    "        \n",
    "    except Exception as e:\n",
    "        print(f'ERROR: {traceback.format_exc()}')\n",
    "        return []"
   ]
  },
  {
   "cell_type": "markdown",
   "id": "1450fb8f-cc34-4213-9820-71dbb2432a50",
   "metadata": {},
   "source": [
    "Upload data objects to S3-"
   ]
  },
  {
   "cell_type": "code",
   "execution_count": 8,
   "id": "2026e6ac-5151-4340-9289-a7583b94482e",
   "metadata": {},
   "outputs": [],
   "source": [
    "def upload_data_to_s3_bucket(bucket_name, folder, file_name, data):\n",
    "    try:\n",
    "        print(f'Uploading data to {bucket_name} bucket')\n",
    "        data_string = json.dumps(data, indent=2, default=str)\n",
    "        \n",
    "        s3_client = sts_assume_role()\n",
    "        response = s3_client.put_object(\n",
    "            Bucket=bucket_name, \n",
    "            Key=f'{folder}/{file_name}',\n",
    "            Body=data_string\n",
    "        )\n",
    "        \n",
    "        code = response['ResponseMetadata']['HTTPStatusCode']\n",
    "        if code == 200:\n",
    "            print('INFO: Upload success')\n",
    "            return True\n",
    "            \n",
    "        print('ERROR: Upload failed')\n",
    "        return False\n",
    "        \n",
    "    except Exception as e:\n",
    "        print(f'ERROR: {traceback.format_exc()}')\n",
    "        return False"
   ]
  },
  {
   "cell_type": "markdown",
   "id": "93cc6b35-bef4-407f-9cb8-7e17f8ddf442",
   "metadata": {},
   "source": [
    "Test by uploading fake data using faker library-"
   ]
  },
  {
   "cell_type": "code",
   "execution_count": 16,
   "id": "c3c83b84-e30c-4e6a-8a56-30089b5ee5ca",
   "metadata": {},
   "outputs": [],
   "source": [
    "def test_upload_fake_data():\n",
    "    \"\"\"\n",
    "    fake data test upload\n",
    "    \"\"\"\n",
    "    upload_count = 10\n",
    "    batch_count = 0\n",
    "    uploaded_files = []\n",
    "\n",
    "    target_bucket_name = 'test-bucket'\n",
    "    create_aws_s3_bucket(target_bucket_name)\n",
    "    \n",
    "    for itr in range(upload_count):\n",
    "        batch_count = batch_count + 1\n",
    "        \n",
    "        data = [fake.profile() for x in range(10)]\n",
    "        data = {'data': data}\n",
    "        upload_data_to_s3_bucket(target_bucket_name, f'raw_batch_{batch_count}', f'raw_{batch_count}_file.json', data)\n",
    "        uploaded_files.append(f'raw_{batch_count}_file.json')\n",
    "        \n",
    "        time.sleep(2)\n",
    "\n",
    "    print('INFO: Upload done')"
   ]
  }
 ],
 "metadata": {
  "kernelspec": {
   "display_name": "Python 3 (ipykernel)",
   "language": "python",
   "name": "python3"
  },
  "language_info": {
   "codemirror_mode": {
    "name": "ipython",
    "version": 3
   },
   "file_extension": ".py",
   "mimetype": "text/x-python",
   "name": "python",
   "nbconvert_exporter": "python",
   "pygments_lexer": "ipython3",
   "version": "3.11.2"
  }
 },
 "nbformat": 4,
 "nbformat_minor": 5
}
